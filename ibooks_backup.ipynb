{
 "cells": [
  {
   "cell_type": "code",
   "execution_count": 8,
   "metadata": {},
   "outputs": [
    {
     "name": "stdout",
     "output_type": "stream",
     "text": [
      "ls: /Users/rahimhashim/Library/Mobile: No such file or directory\n",
      "ls: Documents/iCloud~com~apple~iBooks/Documents/: No such file or directory\n"
     ]
    }
   ],
   "source": [
    "#! /bin/bash\n",
    "source_folder='/Users/rahimhashim/Library/Mobile Documents/iCloud~com~apple~iBooks/Documents/'\n",
    "target_folder='/Users/rahimhashim/Library/CloudStorage/GoogleDrive-rh2898@columbia.edu/.shortcut-targets-by-id/0B-7bnvTD8Ld2NmlOQVBZS3RsSGc/Other/Books'\n",
    "!ls {source_folder}"
   ]
  },
  {
   "cell_type": "code",
   "execution_count": 10,
   "metadata": {},
   "outputs": [
    {
     "name": "stdout",
     "output_type": "stream",
     "text": [
      "zsh:1: command not found: source_folder\n",
      "ls: /Users/rahimhashim/Library/Mobile: No such file or directory\n",
      "ls: Documents/iCloud~com~apple~iBooks/Documents/: No such file or directory\n"
     ]
    }
   ],
   "source": [
    "!source_folder = '/Users/rahimhashim/Library/Mobile Documents/iCloud~com~apple~iBooks/Documents/'\n",
    "!ls {source_folder}"
   ]
  },
  {
   "cell_type": "code",
   "execution_count": null,
   "metadata": {},
   "outputs": [],
   "source": []
  }
 ],
 "metadata": {
  "kernelspec": {
   "display_name": "Python 3",
   "language": "python",
   "name": "python3"
  },
  "language_info": {
   "codemirror_mode": {
    "name": "ipython",
    "version": 3
   },
   "file_extension": ".py",
   "mimetype": "text/x-python",
   "name": "python",
   "nbconvert_exporter": "python",
   "pygments_lexer": "ipython3",
   "version": "3.11.6"
  }
 },
 "nbformat": 4,
 "nbformat_minor": 2
}
